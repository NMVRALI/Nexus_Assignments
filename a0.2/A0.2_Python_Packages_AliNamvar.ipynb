{
  "cells": [
    {
      "cell_type": "markdown",
      "metadata": {
        "id": "ZS5lje_18xC2"
      },
      "source": [
        "# 📚 Assignment 2 — NumPy, pandas & Matplotlib Essentials\n",
        "Welcome to your first data-science sprint! In this three-part mini-project you’ll touch the libraries every ML practitioner leans on daily:\n",
        "\n",
        "1. NumPy — fast n-dimensional arrays\n",
        "\n",
        "2. pandas — tabular data wrangling\n",
        "\n",
        "3. Matplotlib — quick, customizable plots\n",
        "\n",
        "Each part starts with “Quick-start notes”, then gives you two bite-sized tasks. Replace every # TODO with working Python in a notebook or script, run it, and check your results. Happy hacking! 😊\n"
      ]
    },
    {
      "cell_type": "markdown",
      "metadata": {
        "id": "u5vvtK-6840I"
      },
      "source": [
        "## 1 · NumPy 🧮\n",
        "Quick-start notes\n",
        "Core object: ndarray (n-dimensional array)\n",
        "\n",
        "Create data: np.array, np.arange, np.random.*\n",
        "\n",
        "Summaries: mean, std, sum, max, …\n",
        "\n",
        "Vectorised math beats Python loops for speed\n",
        "\n"
      ]
    },
    {
      "cell_type": "code",
      "execution_count": 6,
      "metadata": {},
      "outputs": [],
      "source": [
        "import numpy as np\n",
        "import pandas as pd\n",
        "import matplotlib.pyplot as plt"
      ]
    },
    {
      "cell_type": "markdown",
      "metadata": {
        "id": "UyNHtkGm9OgH"
      },
      "source": [
        "### Task 1 — Mock temperatures\n",
        "\n"
      ]
    },
    {
      "cell_type": "code",
      "execution_count": 2,
      "metadata": {
        "id": "lmaiboJe8E15"
      },
      "outputs": [],
      "source": [
        "# 👉 # TODO: import numpy and create an array of 365\n",
        "# normally-distributed °C values (µ=20, σ=5) called temps\n",
        "temp = np.random.normal(loc = 20 , scale = 5 ,size = 365)"
      ]
    },
    {
      "cell_type": "markdown",
      "metadata": {
        "id": "BtsB8QKM9Xs_"
      },
      "source": [
        "### Task 2 — Average temperature\n"
      ]
    },
    {
      "cell_type": "code",
      "execution_count": 3,
      "metadata": {
        "id": "DSR8aS-F9Z10"
      },
      "outputs": [
        {
          "name": "stdout",
          "output_type": "stream",
          "text": [
            "Mean temperature: 19.71731075523892\n"
          ]
        }
      ],
      "source": [
        "# 👉 # TODO: print the mean of temps\n",
        "print(\"Mean temperature:\",temp.mean())"
      ]
    },
    {
      "cell_type": "markdown",
      "metadata": {
        "id": "8JjHX4wy9dPz"
      },
      "source": [
        "## 2 · pandas 📊\n",
        "Quick-start notes\n",
        "Main structures: DataFrame, Series\n",
        "\n",
        "Read data: pd.read_csv, pd.read_excel, …\n",
        "\n",
        "Selection: .loc[label], .iloc[pos]\n",
        "\n",
        "Group & summarise: .groupby(...).agg(...)\n",
        "\n"
      ]
    },
    {
      "cell_type": "markdown",
      "metadata": {
        "id": "wRyJyhbt9uUr"
      },
      "source": [
        "### Task 3 — Load ride log\n"
      ]
    },
    {
      "cell_type": "code",
      "execution_count": null,
      "metadata": {
        "id": "1J4jcLct9yVO"
      },
      "outputs": [],
      "source": [
        "# 👉 # TODO: read \"rides.csv\" into df\n",
        "# (columns: date,temp,rides,weekday)\n",
        "df = pd.read_csv(\"rides.csv\")\n"
      ]
    },
    {
      "cell_type": "markdown",
      "metadata": {
        "id": "byKd8SFK9w2y"
      },
      "source": [
        "### Task 4 — Weekday averages"
      ]
    },
    {
      "cell_type": "code",
      "execution_count": null,
      "metadata": {
        "id": "4rLrxkPj90p3"
      },
      "outputs": [],
      "source": [
        "# 👉 # TODO: compute and print mean rides per weekday\n",
        "mean_rides_per_weekday = df.groupby('weekday')['rides'].mean()"
      ]
    },
    {
      "cell_type": "markdown",
      "metadata": {
        "id": "gbGMbtLf94M4"
      },
      "source": [
        "## 3 · Matplotlib 📈\n",
        "Quick-start notes\n",
        "Workhorse: pyplot interface (import matplotlib.pyplot as plt)\n",
        "\n",
        "Figure & axes: fig, ax = plt.subplots()\n",
        "\n",
        "Common plots: plot, scatter, hist, imshow\n",
        "\n",
        "Display inline in Jupyter with %matplotlib inline or %matplotlib notebook"
      ]
    },
    {
      "cell_type": "markdown",
      "metadata": {
        "id": "QOsToPh2-AnZ"
      },
      "source": [
        "### Task 5 — Scatter plot"
      ]
    },
    {
      "cell_type": "code",
      "execution_count": null,
      "metadata": {
        "id": "_pCU2mIH-DAi"
      },
      "outputs": [],
      "source": [
        "# 👉 # TODO: scatter-plot temperature (x) vs rides (y) from df\n",
        "\n",
        "plt.scatter(df['temp'],df['rides'])\n",
        "plt.xlabel('Temperature (°C)')\n",
        "plt.ylabel('Number of Rides')\n",
        "plt.title('Temperature vs Rides'"
      ]
    },
    {
      "cell_type": "markdown",
      "metadata": {
        "id": "TBGXIzVV-E5u"
      },
      "source": [
        "### Task 6 — Show the figure\n",
        "\n"
      ]
    },
    {
      "cell_type": "code",
      "execution_count": null,
      "metadata": {
        "id": "ycvsNyqh-GRM"
      },
      "outputs": [],
      "source": [
        "# 👉 # TODO: call plt.show() so the plot appears\n",
        "\n",
        "plt.show()"
      ]
    }
  ],
  "metadata": {
    "colab": {
      "provenance": []
    },
    "kernelspec": {
      "display_name": "Python 3",
      "name": "python3"
    },
    "language_info": {
      "codemirror_mode": {
        "name": "ipython",
        "version": 3
      },
      "file_extension": ".py",
      "mimetype": "text/x-python",
      "name": "python",
      "nbconvert_exporter": "python",
      "pygments_lexer": "ipython3",
      "version": "3.12.0"
    }
  },
  "nbformat": 4,
  "nbformat_minor": 0
}
